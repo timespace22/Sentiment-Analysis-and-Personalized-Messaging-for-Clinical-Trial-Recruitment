{
 "cells": [
  {
   "cell_type": "code",
   "execution_count": null,
   "metadata": {},
   "outputs": [],
   "source": [
    "# pip install --upgrade praw\n",
    "# pip install nltk\n",
    "# pip install openai\n",
    "# nltk.download('vader_lexicon')"
   ]
  },
  {
   "cell_type": "markdown",
   "metadata": {},
   "source": [
    "### 1. Scraping the posts and comments from Reddit about clinical trials"
   ]
  },
  {
   "cell_type": "code",
   "execution_count": 90,
   "metadata": {},
   "outputs": [],
   "source": [
    "import praw"
   ]
  },
  {
   "cell_type": "code",
   "execution_count": 91,
   "metadata": {},
   "outputs": [],
   "source": [
    "reddit = praw.Reddit(\n",
    "    client_id = \"\",\n",
    "    client_secret = \"\",\n",
    "    password = \"\",\n",
    "    user_agent = \"\",\n",
    "    username = \"\"\n",
    ")\n",
    "\n",
    "subreddit = reddit.subreddit('all') # accessing all of reddit"
   ]
  },
  {
   "cell_type": "code",
   "execution_count": 92,
   "metadata": {},
   "outputs": [],
   "source": [
    "upvotes_post_list = []\n",
    "\n",
    "for i in subreddit.search(\"clinical trials\", limit = 2): # searching for posts related to 'clinical trials' and limiting to 10 posts.\n",
    "    upvotes_post_list.append([i.score, i])\n",
    "\n",
    "upvotes_post_list.sort(key= lambda x:x[0], reverse=True) # ordering in descending order by the number of upvotes\n"
   ]
  },
  {
   "cell_type": "code",
   "execution_count": 93,
   "metadata": {},
   "outputs": [],
   "source": [
    "def extract_comment_tree(post_text, comments, array): # extract the comment trees from the post\n",
    "\n",
    "    for comment in comments:\n",
    "        \n",
    "        if comment.author is not None and comment.author.name!=\"AutoModerator\":\n",
    "            comment_text = comment.author.name + \"[text part]\" + \" Referring text: \" + post_text + \" Comment: \" + comment.body\n",
    "            array.append(comment_text)\n",
    "\n",
    "            replies = [x for x in comment.replies][:-1]\n",
    "\n",
    "            if replies == []:\n",
    "                continue\n",
    "            else:\n",
    "                extract_comment_tree(comment.body, replies, array)\n",
    "        else:\n",
    "            continue\n",
    "        \n",
    "    return array"
   ]
  },
  {
   "cell_type": "code",
   "execution_count": 94,
   "metadata": {},
   "outputs": [],
   "source": [
    "data = {}\n",
    "\n",
    "for post in upvotes_post_list:\n",
    "    post_text = post[1].author.name + \"[text part]\" + post[1].title + \" \" + post[1].selftext\n",
    "    data[post_text] = []\n",
    "    comments = [x for x in post[1].comments][:-1]\n",
    "\n",
    "    if comments != []:\n",
    "        data[post_text] = extract_comment_tree(post_text.split(\"[text part]\")[1], comments, data[post_text])"
   ]
  },
  {
   "cell_type": "markdown",
   "metadata": {},
   "source": [
    "### 2. Analyzing Sentiment of the post/comment and Generating personalized reply to motivate participation in the clinical trial"
   ]
  },
  {
   "cell_type": "code",
   "execution_count": 23,
   "metadata": {},
   "outputs": [],
   "source": [
    "import nltk\n",
    "from nltk.sentiment.vader import SentimentIntensityAnalyzer\n",
    "from openai import OpenAI\n",
    "import time"
   ]
  },
  {
   "cell_type": "code",
   "execution_count": null,
   "metadata": {},
   "outputs": [],
   "source": [
    "# asking chatgpt for the posts\n",
    "def ask_chatgpt_post(author_name, text, score, prompts): \n",
    "    api_key = ''\n",
    "\n",
    "    client = OpenAI(\n",
    "        api_key = api_key   #the API key\n",
    "    )\n",
    "    messages = [ {\"role\": \"system\", \"content\": \"You are a intelligent assistant.\"} ]\n",
    "    \n",
    "    if score < -0.5:\n",
    "        prompt = prompts[\"Very Negative\"]\n",
    "    elif score >= -0.5 and score < -0.05:\n",
    "        prompt = prompts[\"Negative\"]\n",
    "    elif score >= -0.05 and score <= 0.05:\n",
    "        prompt = prompts[\"Neutral\"]\n",
    "    elif score > 0.05 and score <= 0.5:\n",
    "        prompt = prompts[\"Positive\"]\n",
    "    else:\n",
    "        prompt = prompts[\"Very Positive\"]\n",
    "\n",
    "    message =f\"This is the view of a user (name: {author_name}) on a particular clinical trial: {text} The vader sentiment scores for this view is {str(score)}. {prompt}\"\n",
    "\n",
    "    messages.append(\n",
    "        {\"role\": \"user\", \"content\": message},\n",
    "    )\n",
    "\n",
    "    if message:\n",
    "        chat_completion = client.chat.completions.create(\n",
    "            messages=messages,\n",
    "            model=\"gpt-3.5-turbo-0125\",\n",
    "        )\n",
    "\n",
    "        reply = chat_completion.choices[0].message.content  \n",
    "    else:\n",
    "        reply = \"Joining a clinical trial not only offers potential medical breakthroughs but empowers you to contribute to cutting-edge research shaping the future of healthcare—your participation matters.\"\n",
    "\n",
    "    return reply\n",
    "    \n",
    "# asking chatgpt for the comments\n",
    "def ask_chatgpt_comment(author_name, text, post_text, score, prompts): \n",
    "    api_key = ''\n",
    "\n",
    "    client = OpenAI(\n",
    "        api_key = api_key   #the API key\n",
    "    )\n",
    "    messages = [ {\"role\": \"system\", \"content\": \"You are a intelligent assistant.\"} ]\n",
    "    \n",
    "    if score < -0.5:\n",
    "        prompt = prompts[\"Very Negative\"]\n",
    "    elif score >= -0.5 and score < -0.05:\n",
    "        prompt = prompts[\"Negative\"]\n",
    "    elif score >= -0.05 and score <= 0.05:\n",
    "        prompt = prompts[\"Neutral\"]\n",
    "    elif score > 0.05 and score <= 0.5:\n",
    "        prompt = prompts[\"Positive\"]\n",
    "    else:\n",
    "        prompt = prompts[\"Very Positive\"]\n",
    "\n",
    "    message =f\"This is the comment of a user (name: {author_name}) on a particular clinical trial: {text}. The comment is on the following post: {post_text}. The vader sentiment scores for this comment is {str(score)}. {prompt}\"\n",
    "\n",
    "    messages.append(\n",
    "        {\"role\": \"user\", \"content\": message},\n",
    "    )\n",
    "    \n",
    "    if message:\n",
    "        chat_completion = client.chat.completions.create(\n",
    "            messages=messages,\n",
    "            model=\"gpt-3.5-turbo-0125\",\n",
    "        )\n",
    "\n",
    "        reply = chat_completion.choices[0].message.content  \n",
    "    else:\n",
    "        reply = \"Joining a clinical trial not only offers potential medical breakthroughs but empowers you to contribute to cutting-edge research shaping the future of healthcare—your participation matters.\"\n",
    "\n",
    "    return reply"
   ]
  },
  {
   "cell_type": "code",
   "execution_count": null,
   "metadata": {},
   "outputs": [],
   "source": [
    "# vader sentiment analyzer\n",
    "analyzer = SentimentIntensityAnalyzer()\n",
    "\n",
    "# a dictionary with \"post and the corresponding reply message\" as the keys and \"comment and corresponding reply message\" as the values.\n",
    "replies = {}\n",
    "\n",
    "# prompt according to the sentiment score\n",
    "prompts = {\n",
    "    \"Very Negative\": \"Write a personalized message for this user convincing them to consider the clinical trial, addressing their concerns.\",\n",
    "    \"Negative\": \"Craft a message addressing concerns and providing reassurance about the clinical trial.\",\n",
    "    \"Neutral\": \"Generate a message encouraging consideration of the clinical trial and providing general information.\",\n",
    "    \"Positive\": \"Create a message highlighting the benefits of the clinical trial and encouraging exploration of available options.\",\n",
    "    \"Very Positive\": \"Compose an enthusiastic message promoting the benefits of the clinical trial and encouraging active participation.\"\n",
    "}\n",
    "\n",
    "\n",
    "for post in data.keys():\n",
    "    post_author_name = post.split(\"[text part]\")[0]\n",
    "    post_text = post.split(\"[text part]\")[1]\n",
    "    post_score = analyzer.polarity_scores(post_text)\n",
    "\n",
    "    post_reply = ask_chatgpt_post(post_author_name, post_text, post_score, prompts)\n",
    "    \n",
    "    post_reply = post_reply.replace(\"[Your Name]\", \"Turmerik Team\")\n",
    "\n",
    "    replies[post + \" Reply Message: \" + post_reply] = []\n",
    "\n",
    "    for comment in data[post]:\n",
    "        author_name = comment.split(\"[text part]\")[0]\n",
    "        text = comment.split(\"[text part]\")[1]\n",
    "        score = analyzer.polarity_scores(text)\n",
    "\n",
    "        reply = ask_chatgpt_comment(author_name, text, post_text, score, prompts)\n",
    "\n",
    "        reply = reply.replace(\"[Your Name]\", \"Turmerik Team\")\n",
    "\n",
    "        replies[post + \" Reply message: \" + post_reply].append(author_name + \" Comment: \" + text.split(\"Comment:\")[1] + \" Reply Message: \" + reply)\n",
    "    "
   ]
  }
 ],
 "metadata": {
  "kernelspec": {
   "display_name": "Python 3",
   "language": "python",
   "name": "python3"
  },
  "language_info": {
   "codemirror_mode": {
    "name": "ipython",
    "version": 3
   },
   "file_extension": ".py",
   "mimetype": "text/x-python",
   "name": "python",
   "nbconvert_exporter": "python",
   "pygments_lexer": "ipython3",
   "version": "3.11.9"
  }
 },
 "nbformat": 4,
 "nbformat_minor": 2
}
